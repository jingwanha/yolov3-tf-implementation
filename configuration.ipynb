{
 "cells": [
  {
   "cell_type": "code",
   "execution_count": 1,
   "id": "0bb468c3-b9aa-40d8-b39d-87aae5e9c875",
   "metadata": {},
   "outputs": [],
   "source": [
    "!rm -r ./weights/fl_test_grid_anchor_OP\n",
    "!rm -r ./weights/fl_test_grid_anchor_OP_2"
   ]
  },
  {
   "cell_type": "code",
   "execution_count": null,
   "id": "1c796671-05b3-4427-b4c9-97612a3dff96",
   "metadata": {},
   "outputs": [],
   "source": [
    "cd /home/jovyan/jingwan/YOLOV3_TF\n"
   ]
  },
  {
   "cell_type": "code",
   "execution_count": null,
   "id": "8c8dff03-eb2f-40d2-9f1a-397898e3d71a",
   "metadata": {},
   "outputs": [],
   "source": [
    "# CUDA_VISIBLE_DEVICES=1 python train.py --config_path=configs/csv_tfrecord_test.json\n",
    "# CUDA_VISIBLE_DEVICES=1 python train.py --config_path=configs/fl_test_grid_anchor_OP_2.json\n",
    "# CUDA_VISIBLE_DEVICES=0 python train.py --config_path=configs/fl_test_grid_2.json\n",
    "# CUDA_VISIBLE_DEVICES=1 python train.py --config_path=configs/fl_test_grid_anchor_default.json\n",
    "# CUDA_VISIBLE_DEVICES=1 python train.py --config_path=configs/fl_test_grid_anchor_default_2.json\n",
    "\n",
    "# CUDA_VISIBLE_DEVICES=2 python train.py --config_path=configs/augS3_transfer_8b.json\n",
    "# CUDA_VISIBLE_DEVICES=0 python train.py --config_path=configs/augS4_transfer_32b.json"
   ]
  },
  {
   "cell_type": "markdown",
   "id": "1676a321",
   "metadata": {},
   "source": [
    "# Configuration"
   ]
  },
  {
   "cell_type": "code",
   "execution_count": 1,
   "id": "e0196d1e-38bd-412f-bc07-cd3f4954273d",
   "metadata": {},
   "outputs": [],
   "source": [
    "config = {\n",
    "    'model_name' : 'csv_tfrecord_test',\n",
    "    \n",
    "    'data' : {\n",
    "        'root_path' : '/home/jovyan/DATA/googlemap/tfrecord/', # 데이터 저쟝경로\n",
    "        'train_tfrecord' : 'mosaic2.tfrecord',\n",
    "        'valid_tfrecord' : 'test.tfrecord',\n",
    "        'test_tfrecord' : 'test.tfrecord', \n",
    "                \n",
    "        'save_test_image_path' : 'pred_results',\n",
    "        \n",
    "        'input_size' : 800,\n",
    "        \n",
    "        'classes_names' : 'google.names',\n",
    "        'n_classes' : 5,\n",
    "        \n",
    "        'anchor_optimization' : False, # True or False # True인 경우 optimized_anchor_path가 없는 경우 최적화 수행\n",
    "        \n",
    "        'augmentation' : False, # True or False\n",
    "        'n_augment' : 2,\n",
    "    },\n",
    "    \n",
    "    'model': {\n",
    "        'transfer_weight' : '/home/jovyan/jingwan/YOLOV3_TF/weights/initial_weight/yolov3.tf', # initial weight 저장경로\n",
    "        'transfer_classes': 80,\n",
    "        \n",
    "        'backbone_freeze' : True, # False\n",
    "    },\n",
    "    \n",
    "    'training' : {        \n",
    "        'epoch' : 300,\n",
    "        'batch_size' : 8,\n",
    "        'learning_rate' : 0.01,\n",
    "        \n",
    "        'save_path' : './weights/',\n",
    "        \n",
    "        'export_path' : './export_models/',\n",
    "        \n",
    "        'optimizer' : 'adam', # SGD, adam\n",
    "        'lr_policy' : 'plateau', # [clr, plateau, None],\n",
    "        \n",
    "        'smoothing_factor' : 0,\n",
    "        'ignore_iou_threshold' : 0.5,\n",
    "    },\n",
    "    \n",
    "    \n",
    "    'nms' : {\n",
    "        'max_boxes' : 300, # 1000 for ultratics\n",
    "        'iou_threshold' : 0.6, # 0.45 for ultratics\n",
    "        'score_threshold' : 0.1, # 0.001 for ultratics\n",
    "    }\n",
    "}"
   ]
  },
  {
   "cell_type": "code",
   "execution_count": 2,
   "id": "a025d321",
   "metadata": {},
   "outputs": [],
   "source": [
    "import json\n",
    "import os\n",
    "with open(os.path.join('./configs',config['model_name']+'.json'), 'w', encoding='utf-8') as f: \n",
    "    json.dump(config,f)"
   ]
  },
  {
   "cell_type": "code",
   "execution_count": null,
   "id": "12259e18-a011-4ad5-84c2-526276f0253c",
   "metadata": {},
   "outputs": [],
   "source": []
  }
 ],
 "metadata": {
  "kernelspec": {
   "display_name": "Python 3",
   "language": "python",
   "name": "python3"
  },
  "language_info": {
   "codemirror_mode": {
    "name": "ipython",
    "version": 3
   },
   "file_extension": ".py",
   "mimetype": "text/x-python",
   "name": "python",
   "nbconvert_exporter": "python",
   "pygments_lexer": "ipython3",
   "version": "3.7.9"
  }
 },
 "nbformat": 4,
 "nbformat_minor": 5
}
