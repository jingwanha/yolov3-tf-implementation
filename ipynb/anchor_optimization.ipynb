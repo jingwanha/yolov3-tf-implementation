{
 "cells": [
  {
   "cell_type": "code",
   "execution_count": 1,
   "id": "35914c08-07a9-4046-b475-7c5e6ea2a7bc",
   "metadata": {},
   "outputs": [],
   "source": [
    "import os \n",
    "os.environ['CUDA_VISIBLE_DEVICES'] = \"99\"\n",
    "\n",
    "import sys\n",
    "sys.path.append('../')\n",
    "\n",
    "import numpy as np\n",
    "from yolov3.anchors import anchor_optimization\n",
    "from yolov3.dataset import load_tfrecord_dataset\n",
    "\n",
    "data_path = '/home/jovyan/DATA/googlemap/tfrecord/train.tfrecord'\n",
    "classname_path = '/home/jovyan/DATA/googlemap/tfrecord/google.names'\n",
    "\n",
    "anchor_save_path = '/home/jovyan/DATA/googlemap/tfrecord/optimized_anchor.npy'"
   ]
  },
  {
   "cell_type": "code",
   "execution_count": 2,
   "id": "9e54c481-eb56-4fe4-9c54-e75dbbe384bf",
   "metadata": {},
   "outputs": [
    {
     "name": "stdout",
     "output_type": "stream",
     "text": [
      "AVG IOU : 0.8412012019089671\n"
     ]
    }
   ],
   "source": [
    "dataset = load_tfrecord_dataset(data_path,classname_path,size=800)\n",
    "optimized_anchor = anchor_optimization(dataset)"
   ]
  },
  {
   "cell_type": "code",
   "execution_count": 3,
   "id": "634ed42b-eef1-4507-bd60-a96d73cfbe4f",
   "metadata": {},
   "outputs": [
    {
     "data": {
      "text/plain": [
       "array([[17., 25.],\n",
       "       [28., 19.],\n",
       "       [20., 32.],\n",
       "       [38., 23.],\n",
       "       [24., 37.],\n",
       "       [30., 30.],\n",
       "       [35., 42.],\n",
       "       [45., 36.],\n",
       "       [62., 53.]], dtype=float32)"
      ]
     },
     "execution_count": 3,
     "metadata": {},
     "output_type": "execute_result"
    }
   ],
   "source": [
    "optimized_anchor"
   ]
  },
  {
   "cell_type": "code",
   "execution_count": 4,
   "id": "8f84baf2-5c4b-446a-9eaa-d0a51f9e1fb5",
   "metadata": {},
   "outputs": [],
   "source": [
    "np.save(anchor_save_path,optimized_anchor)"
   ]
  },
  {
   "cell_type": "code",
   "execution_count": null,
   "id": "393fb501-0b9d-4f79-b5e6-7afb577920fe",
   "metadata": {},
   "outputs": [],
   "source": []
  }
 ],
 "metadata": {
  "kernelspec": {
   "display_name": "Python 3",
   "language": "python",
   "name": "python3"
  },
  "language_info": {
   "codemirror_mode": {
    "name": "ipython",
    "version": 3
   },
   "file_extension": ".py",
   "mimetype": "text/x-python",
   "name": "python",
   "nbconvert_exporter": "python",
   "pygments_lexer": "ipython3",
   "version": "3.7.9"
  }
 },
 "nbformat": 4,
 "nbformat_minor": 5
}
