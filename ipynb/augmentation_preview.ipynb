{
 "cells": [
  {
   "cell_type": "code",
   "execution_count": 2,
   "id": "a7e3111d-8f19-4c82-8ab3-5737c8851594",
   "metadata": {},
   "outputs": [],
   "source": [
    "import os\n",
    "os.environ['CUDA_VISIBLE_DEVICES'] = \"99\"\n",
    "\n",
    "import sys\n",
    "from tqdm import tqdm\n",
    "sys.path.append('../')\n",
    "\n",
    "from yolov3.dataset import load_tfrecord_dataset\n",
    "\n",
    "import numpy as np\n",
    "import cv2\n",
    "import matplotlib.pyplot as plt"
   ]
  },
  {
   "cell_type": "code",
   "execution_count": 3,
   "id": "48fbc3d6-8162-43b6-95e8-35428d417d91",
   "metadata": {},
   "outputs": [],
   "source": [
    " # Train dataset\n",
    "train_data_path = '/home/jovyan/DATA/googlemap/tfrecord/train.tfrecord'\n",
    "classname_path = '/home/jovyan/DATA/googlemap/tfrecord/google.names'\n",
    "            \n",
    "train_dataset = load_tfrecord_dataset(train_data_path, classname_path, 800)"
   ]
  },
  {
   "cell_type": "code",
   "execution_count": 8,
   "id": "c3a14378-b504-40da-9c49-29579953cc96",
   "metadata": {},
   "outputs": [
    {
     "name": "stdout",
     "output_type": "stream",
     "text": [
      "tf.Tensor(\n",
      "[[0.16875 0.40125 0.2075  0.43375 1.     ]\n",
      " [0.35375 0.5475  0.38125 0.5925  1.     ]\n",
      " [0.19875 0.4225  0.23125 0.46125 1.     ]\n",
      " [0.2275  0.445   0.25625 0.4825  1.     ]\n",
      " [0.2825  0.48625 0.31    0.52125 1.     ]\n",
      " [0.2525  0.465   0.2875  0.50375 1.     ]\n",
      " [0.30125 0.5025  0.335   0.54375 1.     ]\n",
      " [0.32625 0.52125 0.365   0.56375 1.     ]\n",
      " [0.39125 0.185   0.4225  0.22    1.     ]\n",
      " [0.44625 0.20625 0.485   0.2425  1.     ]\n",
      " [0.49125 0.22375 0.52375 0.25875 1.     ]\n",
      " [0.52    0.235   0.55625 0.2725  1.     ]\n",
      " [0.555   0.24625 0.58375 0.28875 1.     ]\n",
      " [0.5825  0.26    0.61625 0.30125 1.     ]\n",
      " [0.61875 0.27    0.65    0.315   1.     ]\n",
      " [0.66125 0.29125 0.695   0.335   1.     ]\n",
      " [0.69875 0.30875 0.7325  0.345   1.     ]\n",
      " [0.73125 0.32125 0.77    0.3625  1.     ]\n",
      " [0.7675  0.3375  0.805   0.3775  1.     ]], shape=(19, 5), dtype=float32)\n"
     ]
    }
   ],
   "source": [
    "for img, box in train_dataset.take(1):\n",
    "    print(box)"
   ]
  },
  {
   "cell_type": "code",
   "execution_count": null,
   "id": "dbd5ca6c-8886-4612-af70-538d5d6f47ff",
   "metadata": {},
   "outputs": [],
   "source": []
  },
  {
   "cell_type": "code",
   "execution_count": null,
   "id": "f76d9f72-8232-4d6d-95f2-de5802a8759d",
   "metadata": {},
   "outputs": [],
   "source": [
    " n_display_samples = 10\n",
    "train_dataset = train_dataset.shuffle(buffer_size=512)\n",
    "\n",
    "for idx, (image, boxes) in tqdm(enumerate(train_dataset.as_numpy_iterator())):\n",
    "        \n",
    "    for i in range(10):\n",
    "        aug_i, aug_box = _augment(image,boxes,'simple')\n",
    "        aug_i = aug_i.numpy().copy()\n",
    "\n",
    "        for x1,y1,x2,y2,_ in boxes:  image = cv2.rectangle(image,(int(x1*800),int(y1*800)),(int(x2*800),int(y2*800)), (255,0,0),2)\n",
    "        for x1,y1,x2,y2,_ in aug_box.numpy():  aug_i = cv2.rectangle(aug_i,(int(x1*800),int(y1*800)),(int(x2*800),int(y2*800)), (0,0,255),2)\n",
    "\n",
    "        fig = plt.figure(figsize=(16,16))\n",
    "        ax1 = fig.add_subplot(2, 2, 1)\n",
    "        ax2 = fig.add_subplot(2, 2, 2)\n",
    "\n",
    "        ax1.set_title('original')\n",
    "        ax2.set_title('augmentation')\n",
    "\n",
    "        ax1.imshow(np.array(image,dtype=np.uint8))\n",
    "        ax2.imshow(np.array(aug_i,dtype=np.uint8))\n",
    "\n",
    "        plt.show()\n",
    "    \n",
    "    break\n",
    "    if idx == n_display_samples : break"
   ]
  }
 ],
 "metadata": {
  "kernelspec": {
   "display_name": "Python 3",
   "language": "python",
   "name": "python3"
  },
  "language_info": {
   "codemirror_mode": {
    "name": "ipython",
    "version": 3
   },
   "file_extension": ".py",
   "mimetype": "text/x-python",
   "name": "python",
   "nbconvert_exporter": "python",
   "pygments_lexer": "ipython3",
   "version": "3.7.9"
  }
 },
 "nbformat": 4,
 "nbformat_minor": 5
}
