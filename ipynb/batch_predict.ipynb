{
 "cells": [
  {
   "cell_type": "code",
   "execution_count": null,
   "id": "8bebddde-32e9-4c53-990b-1bf7e3b68379",
   "metadata": {
    "tags": []
   },
   "outputs": [],
   "source": [
    "import os \n",
    "os.environ['CUDA_VISIBLE_DEVICES'] = \"0\"\n",
    "\n",
    "import time\n",
    "import json\n",
    "import argparse\n",
    "\n",
    "import tensorflow as tf\n",
    "import numpy as np\n",
    "import cv2\n",
    "from glob import glob\n",
    "\n",
    "from eval import evaluation_model_by_mAP\n",
    "\n",
    "from tensorflow.keras.layers import Lambda\n",
    "from yolov3.models import YoloV3, yolo_boxes, yolo_nms\n",
    "from yolov3.anchors import default_anchor\n",
    "from yolov3.dataset import transform_images\n",
    "from yolov3.utils import draw_outputs\n",
    "\n",
    "anchors = default_anchor/416"
   ]
  },
  {
   "cell_type": "code",
   "execution_count": null,
   "id": "1ea7ce8e-e03a-4ca1-bf5d-7693ab36ccca",
   "metadata": {},
   "outputs": [],
   "source": [
    "model_loaded = tf.saved_model.load('./ETC/export_batch')"
   ]
  },
  {
   "cell_type": "code",
   "execution_count": null,
   "id": "7e840ff7-b08f-4420-af36-5d591a52379e",
   "metadata": {},
   "outputs": [],
   "source": [
    "def predict_batch(model, images, nms_config=(300,0.5,0.5)):\n",
    "    # model : exported model (nms 이전 단계에서 export 된 모델)\n",
    "    # images : batch images, shape = (batch, height, width, channel)\n",
    "    \n",
    "    n_batch = images.shape[0]\n",
    "    outputs = []\n",
    "    \n",
    "    b_0, b_1, b_2 = model(images)\n",
    "    \n",
    "    for i in range(n_batch):\n",
    "        boxes, scores, classes, nums = b_0\n",
    "        b0 = (boxes[i:i+1,...],scores[i:i+1,...],classes[i:i+1,...], nums[i:i+1,...])\n",
    "        \n",
    "        boxes, scores, classes, nums = b_1\n",
    "        b1 = (boxes[i:i+1,...],scores[i:i+1,...],classes[i:i+1,...], nums[i:i+1,...])\n",
    "        \n",
    "        boxes, scores, classes, nums = b_2\n",
    "        b2 = (boxes[i:i+1,...],scores[i:i+1,...],classes[i:i+1,...], nums[i:i+1,...])\n",
    "        \n",
    "        output = (lambda x: yolo_nms(x, 5, nms_config))((b0[:3], b1[:3], b2[:3]))\n",
    "        \n",
    "        outputs.append(output)\n",
    "        \n",
    "    return outputs"
   ]
  },
  {
   "cell_type": "markdown",
   "id": "e36fcf91-2ae9-461a-93f1-ef7d3249e106",
   "metadata": {},
   "source": [
    "# "
   ]
  },
  {
   "cell_type": "markdown",
   "id": "d29f2747-2960-44e5-9bb2-43c30022b10f",
   "metadata": {},
   "source": [
    "# Batch Predict Test"
   ]
  },
  {
   "cell_type": "code",
   "execution_count": null,
   "id": "84996fbb-bbe5-4aea-83ac-7f9fd42ae09b",
   "metadata": {},
   "outputs": [],
   "source": [
    "img_1 = cv2.imread('./ETC/sample_1.jpg')\n",
    "img_2 = cv2.imread('./ETC/sample_2.jpg')"
   ]
  },
  {
   "cell_type": "code",
   "execution_count": null,
   "id": "2727e3a6-2f94-41c6-a14d-213f8ebac7d2",
   "metadata": {},
   "outputs": [],
   "source": [
    "img_batch = np.zeros((2,800,800,3))\n",
    "img_batch[0,:,:,:] = img_1\n",
    "img_batch[1,:,:,:] = img_2\n",
    "\n",
    "img_batch = transform_images(img_batch,800)"
   ]
  },
  {
   "cell_type": "code",
   "execution_count": null,
   "id": "aa61aff4-400c-4742-b2c3-dd1a81134608",
   "metadata": {
    "tags": []
   },
   "outputs": [],
   "source": [
    "# batch prediction\n",
    "outputs = predict_batch(model_loaded, img_batch, nms_config=(300,0.5,0.5))\n",
    "\n",
    "for idx, output in enumerate(outputs):\n",
    "    boxes, scores, classes, nums = output\n",
    "\n",
    "    draw_img = draw_outputs(np.array(img_batch[idx,:,:,:]*255,dtype=np.uint8), (boxes, scores, classes, nums), str(classes))\n",
    "    cv2.imwrite('./ETC/{}_result.png'.format(str(idx)), draw_img)"
   ]
  },
  {
   "cell_type": "markdown",
   "id": "4b1c63aa-6aba-4ee4-a8d8-4bd9fc012fcd",
   "metadata": {},
   "source": [
    "# "
   ]
  },
  {
   "cell_type": "markdown",
   "id": "bf308584-d74c-4e8e-91e9-3b840fe97905",
   "metadata": {},
   "source": [
    "# Batch 시간 비교"
   ]
  },
  {
   "cell_type": "code",
   "execution_count": null,
   "id": "3cfaf05e-bfb3-4d18-bebd-5fb7eeed2af0",
   "metadata": {},
   "outputs": [],
   "source": [
    "import time\n",
    "from collections import defaultdict\n",
    "from tqdm import tqdm"
   ]
  },
  {
   "cell_type": "code",
   "execution_count": null,
   "id": "1160dd70-523a-4efe-b89e-1ecf15c48902",
   "metadata": {},
   "outputs": [],
   "source": [
    "n_test_images = 1000\n",
    "n_test_case = 5\n",
    "\n",
    "n_batch = [1,8,16,32,64]\n",
    "predict_time = defaultdict(list)"
   ]
  },
  {
   "cell_type": "code",
   "execution_count": null,
   "id": "def60dcc-9703-4b81-9913-14d09b0a3e46",
   "metadata": {},
   "outputs": [],
   "source": [
    "model_loaded = tf.saved_model.load('./ETC/export_batch')"
   ]
  },
  {
   "cell_type": "code",
   "execution_count": null,
   "id": "5b4f138f-7bde-4038-81b4-47242c9caf92",
   "metadata": {},
   "outputs": [],
   "source": [
    "# warm-up iterateration\n",
    "dummy_img = np.zeros((1,800,800,3))\n",
    "dummy_img = transform_images(dummy_img,800)\n",
    "for i in range(100): model_loaded(dummy_img)"
   ]
  },
  {
   "cell_type": "code",
   "execution_count": null,
   "id": "85fddfb4-9dd3-4b89-be8e-9ad50fdb0963",
   "metadata": {},
   "outputs": [],
   "source": [
    "for test_num in range(n_test_case):\n",
    "    print(\"test case : {}\".format(str(test_num)))\n",
    "    for batch in n_batch:\n",
    "        s_time = time.time()\n",
    "        image_batch = np.zeros((batch,800,800,3))\n",
    "        image_batch = transform_images(image_batch,800)\n",
    "        \n",
    "        for _ in range(n_test_images//batch):\n",
    "            model_loaded(image_batch)\n",
    "        \n",
    "        if n_test_images%batch !=0 : \n",
    "            image_batch = np.zeros((n_test_images%batch,800,800,3))\n",
    "            image_batch = transform_images(image_batch,800)\n",
    "            model_loaded(image_batch)\n",
    "            \n",
    "        end_time = time.time()-s_time\n",
    "        predict_time[batch].append(end_time)\n",
    "        print(batch, end_time)\n",
    "    print(\"\\n\\n\")"
   ]
  },
  {
   "cell_type": "code",
   "execution_count": null,
   "id": "d380254e-19a3-42b3-b6db-e3133a1af120",
   "metadata": {},
   "outputs": [],
   "source": [
    "import statistics\n",
    "for batch in n_batch:\n",
    "    print(\"batch : {}, time : {}\".format(str(batch),str(statistics.median(predict_time[batch]))))"
   ]
  },
  {
   "cell_type": "markdown",
   "id": "2739f4b6-f3e1-4ea3-a276-00155de5b44b",
   "metadata": {},
   "source": [
    "# "
   ]
  },
  {
   "cell_type": "markdown",
   "id": "df3b9617-9c9e-42f8-a844-5378a3accfdc",
   "metadata": {},
   "source": [
    "# 모델 구조 확인"
   ]
  },
  {
   "cell_type": "code",
   "execution_count": null,
   "id": "27d0637e-ea9b-4af3-8ce6-7f2a583d6d2f",
   "metadata": {},
   "outputs": [],
   "source": [
    "!saved_model_cli show --dir /home/jovyan/jingwan/YOLOV3_TF/ETC/export_test/ --tag_set serve --signature_def serving_default"
   ]
  },
  {
   "cell_type": "code",
   "execution_count": null,
   "id": "cdb5c04a-0629-43a8-a807-39e6cb739b51",
   "metadata": {},
   "outputs": [],
   "source": [
    "!saved_model_cli show --dir /home/jovyan/jingwan/YOLOV3_TF/ETC/export_original/ --tag_set serve --signature_def serving_default"
   ]
  }
 ],
 "metadata": {
  "kernelspec": {
   "display_name": "Python 3",
   "language": "python",
   "name": "python3"
  },
  "language_info": {
   "codemirror_mode": {
    "name": "ipython",
    "version": 3
   },
   "file_extension": ".py",
   "mimetype": "text/x-python",
   "name": "python",
   "nbconvert_exporter": "python",
   "pygments_lexer": "ipython3",
   "version": "3.7.9"
  }
 },
 "nbformat": 4,
 "nbformat_minor": 5
}
