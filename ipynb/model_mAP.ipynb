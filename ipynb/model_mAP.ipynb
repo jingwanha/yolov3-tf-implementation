{
 "cells": [
  {
   "cell_type": "code",
   "execution_count": 1,
   "id": "57c9ae21-8638-4173-b36d-8f7d55aad394",
   "metadata": {
    "tags": []
   },
   "outputs": [],
   "source": [
    "import sys\n",
    "sys.path.append('../')\n",
    "\n",
    "import os \n",
    "os.environ['CUDA_VISIBLE_DEVICES'] = \"1\"\n",
    "\n",
    "import time\n",
    "import json\n",
    "import argparse\n",
    "\n",
    "import tensorflow as tf\n",
    "import numpy as np\n",
    "import cv2\n",
    "\n",
    "from eval import evaluation_model_by_mAP\n",
    "\n",
    "from tensorflow.keras.layers import Lambda\n",
    "from yolov3.models import YoloV3, yolo_boxes\n",
    "from yolov3.anchors import default_anchor\n",
    "\n",
    "anchors = default_anchor/416"
   ]
  },
  {
   "cell_type": "code",
   "execution_count": 14,
   "id": "b388c0cd-7dff-485e-a6dd-a24dd5fc2614",
   "metadata": {},
   "outputs": [],
   "source": [
    "def yolo_nms(outputs, classes, nms_config):    \n",
    "    # boxes, conf, type\n",
    "    b, c, t = [], [], []\n",
    "    \n",
    "    max_boxes, iou_threshold, score_threshold = nms_config\n",
    "\n",
    "\n",
    "    for o in outputs:\n",
    "        b.append(tf.reshape(o[0], (tf.shape(o[0])[0], -1, tf.shape(o[0])[-1])))\n",
    "        c.append(tf.reshape(o[1], (tf.shape(o[1])[0], -1, tf.shape(o[1])[-1])))\n",
    "        t.append(tf.reshape(o[2], (tf.shape(o[2])[0], -1, tf.shape(o[2])[-1])))\n",
    "\n",
    "    bbox = tf.concat(b, axis=1)\n",
    "    confidence = tf.concat(c, axis=1)\n",
    "    class_probs = tf.concat(t, axis=1)\n",
    "\n",
    "    scores = confidence * class_probs\n",
    "\n",
    "    dscores = tf.squeeze(scores, axis=0)\n",
    "    scores = tf.reduce_max(dscores,[1])\n",
    "    bbox = tf.reshape(bbox,(-1,4))\n",
    "    classes = tf.argmax(dscores,1)\n",
    "    \n",
    "    selected_indices, selected_scores = tf.image.non_max_suppression_with_scores(\n",
    "        boxes=bbox,\n",
    "        scores=scores,\n",
    "        max_output_size=max_boxes,\n",
    "        iou_threshold=iou_threshold,\n",
    "        score_threshold=score_threshold,\n",
    "        soft_nms_sigma=0.5\n",
    "    )\n",
    "    \n",
    "    num_valid_nms_boxes = tf.shape(selected_indices)[0]\n",
    "\n",
    "    selected_indices = tf.concat([selected_indices,tf.zeros(max_boxes-num_valid_nms_boxes, tf.int32)], 0)\n",
    "    selected_scores = tf.concat([selected_scores,tf.zeros(max_boxes-num_valid_nms_boxes,tf.float32)], -1)\n",
    "\n",
    "    boxes=tf.gather(bbox, selected_indices)\n",
    "    boxes = tf.expand_dims(boxes, axis=0)\n",
    "    scores=selected_scores\n",
    "    scores = tf.expand_dims(scores, axis=0)\n",
    "    classes = tf.gather(classes,selected_indices)\n",
    "    classes = tf.expand_dims(classes, axis=0)\n",
    "    valid_detections=num_valid_nms_boxes\n",
    "    valid_detections = tf.expand_dims(valid_detections, axis=0)\n",
    "\n",
    "    return boxes, scores, classes, valid_detections"
   ]
  },
  {
   "cell_type": "code",
   "execution_count": 3,
   "id": "4b49fe7c-8a96-4e67-9490-8e1f7de72943",
   "metadata": {
    "tags": []
   },
   "outputs": [],
   "source": [
    "# # 평가할 모델 및 config 로드\n",
    "# config_path = '../configs/fl_test_grid_anchor_default.json'\n",
    "# with open(config_path,'r') as f: config = json.load(f)\n",
    "    \n",
    "# anchors = default_anchor/416\n",
    "# classname_path = os.path.join(config['data']['root_path'],config['data']['classes_names'])\n",
    "\n",
    "# # evaluation model 및 weight 로드\n",
    "# eval_model = YoloV3(config, anchors, classes=config['data']['n_classes'],training=False)\n",
    "# eval_model_t = YoloV3(config, anchors, classes=config['data']['n_classes'],training=True)\n",
    "\n",
    "# weight_path = os.path.join('../',config['training']['save_path'], config['model_name'],'trained_mAP_best.tf')\n",
    "# eval_model.load_weights(weight_path).expect_partial()"
   ]
  },
  {
   "cell_type": "code",
   "execution_count": 4,
   "id": "91cc37e7-050c-4263-8c09-84c5b89ad369",
   "metadata": {},
   "outputs": [],
   "source": [
    "# eval_model.save('./2')"
   ]
  },
  {
   "cell_type": "code",
   "execution_count": 5,
   "id": "583d050d-65b3-4cf1-9820-573a05c2aab4",
   "metadata": {},
   "outputs": [],
   "source": [
    "model_loaded = tf.saved_model.load('./2')"
   ]
  },
  {
   "cell_type": "code",
   "execution_count": 17,
   "id": "b9534a36-8a57-4f20-b0a9-12800893e047",
   "metadata": {},
   "outputs": [],
   "source": [
    "from yolov3.dataset import transform_images\n",
    "\n",
    "img_batch = np.zeros((2,800,800,3))/255.\n",
    "img_batch = transform_images(img_batch,800)\n",
    "\n",
    "b_0, b_1, b_2 = model_loaded(img_batch)"
   ]
  },
  {
   "cell_type": "code",
   "execution_count": 21,
   "id": "df1e08ec-fdac-41ef-8962-be47b0af4a0e",
   "metadata": {},
   "outputs": [],
   "source": [
    "n_batch = b_0[0].shape[0]"
   ]
  },
  {
   "cell_type": "code",
   "execution_count": null,
   "id": "d0929262-0dcf-4388-8503-90e86538fcfd",
   "metadata": {},
   "outputs": [],
   "source": [
    "output_list = []\n",
    "\n",
    "for i in range(n_batch)\n",
    "    b0 = b_0[0]\n",
    "    b1 = b_1[1]\n",
    "    b2 = b_2[2]\n",
    "    \n",
    "    outputs = (lambda x: yolo_nms(x, 5, (300, 0.5, 0.5)))((b_0[:3], b_1[:3], b_2[:3]))"
   ]
  },
  {
   "cell_type": "code",
   "execution_count": 15,
   "id": "575ca316-1302-4208-88ac-f4f51e71a1ae",
   "metadata": {},
   "outputs": [],
   "source": [
    "outputs = (lambda x: yolo_nms(x, 5, (300, 0.5, 0.5)))((b_0[:3], b_1[:3], b_2[:3]))"
   ]
  }
 ],
 "metadata": {
  "kernelspec": {
   "display_name": "Python 3",
   "language": "python",
   "name": "python3"
  },
  "language_info": {
   "codemirror_mode": {
    "name": "ipython",
    "version": 3
   },
   "file_extension": ".py",
   "mimetype": "text/x-python",
   "name": "python",
   "nbconvert_exporter": "python",
   "pygments_lexer": "ipython3",
   "version": "3.7.9"
  }
 },
 "nbformat": 4,
 "nbformat_minor": 5
}
