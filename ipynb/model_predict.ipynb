{
 "cells": [
  {
   "cell_type": "code",
   "execution_count": null,
   "id": "9b966609",
   "metadata": {},
   "outputs": [],
   "source": [
    "import sys\n",
    "sys.path.append('../')\n",
    "\n",
    "import os\n",
    "os.environ['CUDA_VISIBLE_DEVICES'] = \"0\"\n",
    "\n",
    "import time\n",
    "import cv2\n",
    "import numpy as np\n",
    "import tensorflow as tf\n",
    "\n",
    "from yolov3.models import YoloV3\n",
    "from yolov3.dataset import transform_images\n",
    "from yolov3.utils import draw_outputs"
   ]
  },
  {
   "cell_type": "code",
   "execution_count": null,
   "id": "3b80116b",
   "metadata": {},
   "outputs": [],
   "source": [
    "model_export_path = '../export_models/base_clr/model/'\n",
    "model_loaded = tf.saved_model.load(model_export_path)"
   ]
  },
  {
   "cell_type": "code",
   "execution_count": null,
   "id": "a3af8bd7",
   "metadata": {},
   "outputs": [],
   "source": [
    "img_raw = tf.image.decode_image(open('./sample_1.jpg', 'rb').read(), channels=1)\n",
    "img_raw = cv2.cvtColor(np.array(img_raw), cv2.COLOR_GRAY2BGR)\n",
    "\n",
    "img = tf.expand_dims(img_raw, 0)\n",
    "img = transform_images(img, 800)\n",
    "\n",
    "t1 = time.time()\n",
    "boxes, scores, classes, nums = model_loaded(img)\n",
    "t2 = time.time()\n",
    "print('time: {}'.format(t2 - t1))\n",
    "\n",
    "print('detections:')\n",
    "for i in range(nums[0]):\n",
    "    print('\\t{}, {}, {}'.format(int(classes[0][i]),np.array(scores[0][i]),np.array(boxes[0][i])))\n",
    "\n",
    "# img = cv2.cvtColor(img_raw.numpy(), cv2.COLOR_RGB2BGR)\n",
    "img = img_raw.copy()\n",
    "img = draw_outputs(img, (boxes, scores, classes, nums),str(classes[0][i]))\n",
    "cv2.imwrite('./1_rgb.png', img)"
   ]
  },
  {
   "cell_type": "code",
   "execution_count": null,
   "id": "348d2c0b-4d50-489d-b420-d975ff8acd68",
   "metadata": {},
   "outputs": [],
   "source": []
  }
 ],
 "metadata": {
  "kernelspec": {
   "display_name": "Python 3",
   "language": "python",
   "name": "python3"
  },
  "language_info": {
   "codemirror_mode": {
    "name": "ipython",
    "version": 3
   },
   "file_extension": ".py",
   "mimetype": "text/x-python",
   "name": "python",
   "nbconvert_exporter": "python",
   "pygments_lexer": "ipython3",
   "version": "3.7.9"
  }
 },
 "nbformat": 4,
 "nbformat_minor": 5
}
