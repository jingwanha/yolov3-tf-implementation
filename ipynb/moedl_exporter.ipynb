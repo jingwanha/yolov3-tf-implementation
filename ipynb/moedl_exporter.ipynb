{
 "cells": [
  {
   "cell_type": "code",
   "execution_count": 1,
   "id": "8bebddde-32e9-4c53-990b-1bf7e3b68379",
   "metadata": {
    "tags": []
   },
   "outputs": [],
   "source": [
    "import os \n",
    "os.environ['CUDA_VISIBLE_DEVICES'] = \"0\"\n",
    "\n",
    "import time\n",
    "import json\n",
    "import argparse\n",
    "\n",
    "import tensorflow as tf\n",
    "import numpy as np\n",
    "import cv2\n",
    "\n",
    "from eval import evaluation_model_by_mAP\n",
    "\n",
    "from tensorflow.keras.layers import Lambda\n",
    "from yolov3.models import YoloV3, yolo_boxes, yolo_nms\n",
    "from yolov3.anchors import default_anchor\n",
    "from yolov3.dataset import transform_images\n",
    "\n",
    "anchors = default_anchor/416"
   ]
  },
  {
   "cell_type": "code",
   "execution_count": 2,
   "id": "db853f96-d847-48c8-9a58-ee9b67298924",
   "metadata": {},
   "outputs": [
    {
     "name": "stdout",
     "output_type": "stream",
     "text": [
      "HERE\n",
      "INFO:tensorflow:Assets written to: ./ETC/export_batch/assets\n"
     ]
    }
   ],
   "source": [
    "# 평가할 모델 및 config 로드\n",
    "config_path = './configs/fl_test_grid_anchor_default.json'\n",
    "with open(config_path,'r') as f: config = json.load(f)\n",
    "    \n",
    "anchors = default_anchor/416\n",
    "classname_path = os.path.join(config['data']['root_path'],config['data']['classes_names'])\n",
    "\n",
    "# evaluation model 및 weight 로드\n",
    "eval_model = YoloV3(config, anchors, classes=config['data']['n_classes'],training='export')\n",
    "\n",
    "weight_path = os.path.join('./',config['training']['save_path'], config['model_name'],'trained_mAP_best.tf')\n",
    "eval_model.load_weights(weight_path).expect_partial()\n",
    "\n",
    "eval_model.save('./ETC/export_batch')"
   ]
  },
  {
   "cell_type": "code",
   "execution_count": null,
   "id": "15916a9d-65da-40c9-9cb5-60c228ef3056",
   "metadata": {},
   "outputs": [],
   "source": []
  }
 ],
 "metadata": {
  "kernelspec": {
   "display_name": "Python 3",
   "language": "python",
   "name": "python3"
  },
  "language_info": {
   "codemirror_mode": {
    "name": "ipython",
    "version": 3
   },
   "file_extension": ".py",
   "mimetype": "text/x-python",
   "name": "python",
   "nbconvert_exporter": "python",
   "pygments_lexer": "ipython3",
   "version": "3.7.9"
  }
 },
 "nbformat": 4,
 "nbformat_minor": 5
}
