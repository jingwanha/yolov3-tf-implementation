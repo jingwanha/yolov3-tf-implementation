{
 "cells": [
  {
   "cell_type": "markdown",
   "metadata": {},
   "source": [
    "### tf_yolov3 포멧(Mosaic Augmentation)\n",
    "- tfrecord로 변환"
   ]
  },
  {
   "cell_type": "code",
   "execution_count": 1,
   "metadata": {},
   "outputs": [],
   "source": [
    "import os \n",
    "os.environ['CUDA_VISIBLE_DEVICES'] = \"99\"\n",
    "\n",
    "import pandas as pd\n",
    "import shutil\n",
    "import cv2\n",
    "from tqdm import tqdm\n",
    "from glob import glob\n",
    "from augmentation_pipeline import  Mosic_Augmentation\n",
    "import tensorflow as tf\n",
    "\n",
    "\n",
    "import random\n",
    "import numpy as np"
   ]
  },
  {
   "cell_type": "code",
   "execution_count": 2,
   "metadata": {},
   "outputs": [],
   "source": [
    "def _set_tf_features_by_mosaic(img4, labels4, label_names):\n",
    "    \n",
    "    succees, encoded_image = cv2.imencode('.jpg', np.array(img4))\n",
    "    img_raw = encoded_image.tobytes()\n",
    "    \n",
    "    xmin = []\n",
    "    ymin = []\n",
    "    xmax = []\n",
    "    ymax = []\n",
    "    classes_text = []\n",
    "    height,width = (800,800)\n",
    "    \n",
    "    for label,x1,y1,x2,y2 in labels4:\n",
    "        xmin.append(float(x1))\n",
    "        ymin.append(float(y1))\n",
    "        xmax.append(float(x2))\n",
    "        ymax.append(float(y2))\n",
    "        \n",
    "        classes_text.append(label_names[int(label)].encode('utf8'))\n",
    "        \n",
    "\n",
    "    features={\n",
    "        'image/encoded': tf.train.Feature(bytes_list=tf.train.BytesList(value=[img_raw])),\n",
    "        'image/filename': tf.train.Feature(bytes_list=tf.train.BytesList(value=['test'.encode('utf8')])),\n",
    "        'image/object/bbox/xmin': tf.train.Feature(float_list=tf.train.FloatList(value=xmin)),\n",
    "        'image/object/bbox/xmax': tf.train.Feature(float_list=tf.train.FloatList(value=xmax)),\n",
    "        'image/object/bbox/ymin': tf.train.Feature(float_list=tf.train.FloatList(value=ymin)),\n",
    "        'image/object/bbox/ymax': tf.train.Feature(float_list=tf.train.FloatList(value=ymax)),\n",
    "        'image/object/class/text': tf.train.Feature(bytes_list=tf.train.BytesList(value=classes_text)),\n",
    "        }\n",
    "    \n",
    "    example = tf.train.Example(features=tf.train.Features(feature=features))\n",
    "    \n",
    "    return example"
   ]
  },
  {
   "cell_type": "code",
   "execution_count": 6,
   "metadata": {},
   "outputs": [],
   "source": [
    "def create_mosaic_tfrecord(df, tf_path ,input_size, label_names, n_time=1):\n",
    "    \n",
    "    writer = tf.io.TFRecordWriter(tf_path)\n",
    "    \n",
    "    mosaic_border = [-input_size // 2, - input_size // 2]\n",
    "    yc, xc = [int(random.uniform(-x, 2 * input_size + x)) for x in mosaic_border]  # mosaic center x, y\n",
    "    \n",
    "    mosic_aug = Mosic_Augmentation(input_size, mosaic_border, yc ,xc)\n",
    "    \n",
    "    images = df['img_path'].unique()\n",
    "    n_images = len(images)    \n",
    "    \n",
    "    for _ in tqdm(range(n_time)):\n",
    "        for img_path in images: \n",
    "            candidate_images = [cv2.imread(img_path)]\n",
    "            \n",
    "            labels = df[df['img_path']==img_path][['x1','y1','x2','y2','category_id']]\n",
    "            labels = labels.to_numpy()\n",
    "            candidate_labels = [np.hstack((labels[:,:-1]/800,labels[:,4:5]))]\n",
    "            \n",
    "            indices = [random.randint(0, n_images - 1) for _ in range(3)]  # 3 additional image indices\n",
    "            for idx in indices:\n",
    "                candidate_images.append(cv2.imread(images[idx]))\n",
    "                \n",
    "                labels = df[df['img_path']==images[idx]][['x1','y1','x2','y2','category_id']]\n",
    "                labels = labels.to_numpy()\n",
    "                candidate_labels = [np.hstack((labels[:,:-1]/800,labels[:,4:5]))]\n",
    "            \n",
    "            \n",
    "            mosaic_i, mosaic_box = mosic_aug(candidate_images,candidate_labels)\n",
    "        \n",
    "            tfrecord_example = _set_tf_features_by_mosaic(mosaic_i, mosaic_box, label_names)\n",
    "            writer.write(tfrecord_example.SerializeToString())"
   ]
  },
  {
   "cell_type": "code",
   "execution_count": 7,
   "metadata": {},
   "outputs": [
    {
     "name": "stderr",
     "output_type": "stream",
     "text": [
      "100%|██████████| 1/1 [00:42<00:00, 42.78s/it]\n"
     ]
    }
   ],
   "source": [
    "df = pd.read_csv('../../../DATA/googlemap/csv/label.csv')\n",
    "label_names = {0 : '13',\n",
    "               1 : '14',\n",
    "               2 : '15',\n",
    "               3 : '16',\n",
    "               4 : '17',}\n",
    "\n",
    "create_mosaic_tfrecord(df, './mosaic2.tfrecord' ,800, label_names, n_time=1)"
   ]
  },
  {
   "cell_type": "code",
   "execution_count": 8,
   "metadata": {},
   "outputs": [],
   "source": [
    "!mv ./mosaic2.tfrecord ../../../DATA/googlemap/tfrecord/"
   ]
  },
  {
   "cell_type": "code",
   "execution_count": null,
   "metadata": {},
   "outputs": [],
   "source": []
  }
 ],
 "metadata": {
  "kernelspec": {
   "display_name": "Python 3",
   "language": "python",
   "name": "python3"
  },
  "language_info": {
   "codemirror_mode": {
    "name": "ipython",
    "version": 3
   },
   "file_extension": ".py",
   "mimetype": "text/x-python",
   "name": "python",
   "nbconvert_exporter": "python",
   "pygments_lexer": "ipython3",
   "version": "3.7.9"
  }
 },
 "nbformat": 4,
 "nbformat_minor": 4
}
